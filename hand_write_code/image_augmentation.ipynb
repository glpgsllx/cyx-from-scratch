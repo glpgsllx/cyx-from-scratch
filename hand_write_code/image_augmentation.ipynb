{
 "cells": [
  {
   "cell_type": "code",
   "id": "initial_id",
   "metadata": {
    "collapsed": true
   },
   "source": [
    "import matplotlib.pyplot as plt\n",
    "from PIL import Image\n",
    "import torchvision.transforms as transforms\n",
    "\n",
    "image_path = \"../img.png\"\n",
    "image = Image.open(image_path)\n",
    "\n",
    "plt.figure(figsize=(6,6))\n",
    "plt.imshow(image)\n",
    "plt.title(\"Original Image\")\n",
    "plt.axis(\"off\")\n",
    "plt.show()"
   ],
   "outputs": [],
   "execution_count": null
  },
  {
   "metadata": {},
   "cell_type": "code",
   "source": [
    "resize_transform = transforms.Resize((256, 256))\n",
    "resized_image = resize_transform(image)\n",
    "\n",
    "plt.figure(figsize=(6, 6))\n",
    "plt.imshow(resized_image)\n",
    "plt.title(\"Resized Image\")\n",
    "plt.axis('off')\n",
    "plt.show()\n"
   ],
   "id": "40dd10cc5ae1f828",
   "outputs": [],
   "execution_count": null
  },
  {
   "metadata": {},
   "cell_type": "code",
   "source": [
    "random_resized_crop_transform = transforms.RandomResizedCrop(224)\n",
    "cropped_image = random_resized_crop_transform(image)\n",
    "\n",
    "plt.figure(figsize=(6, 6))\n",
    "plt.imshow(cropped_image)\n",
    "plt.title(\"RandomResizedCrop Image\")\n",
    "plt.axis('off')\n",
    "plt.show()\n"
   ],
   "id": "a4b9d13f9c61ebd6",
   "outputs": [],
   "execution_count": null
  },
  {
   "metadata": {},
   "cell_type": "code",
   "source": [
    "horizontal_flip_transform = transforms.RandomHorizontalFlip(p=1)\n",
    "flipped_image = horizontal_flip_transform(image)\n",
    "\n",
    "plt.figure(figsize=(6, 6))\n",
    "plt.imshow(flipped_image)\n",
    "plt.title(\"RandomHorizontalFlip Image\")\n",
    "plt.axis('off')\n",
    "plt.show()\n"
   ],
   "id": "73c657c5f3df0ae7",
   "outputs": [],
   "execution_count": null
  },
  {
   "metadata": {},
   "cell_type": "code",
   "source": [
    "rotation_transform = transforms.RandomRotation(30)\n",
    "rotated_image = rotation_transform(image)\n",
    "\n",
    "plt.figure(figsize=(6, 6))\n",
    "plt.imshow(rotated_image)\n",
    "plt.title(\"RandomRotation Image\")\n",
    "plt.axis('off')\n",
    "plt.show()\n"
   ],
   "id": "fa7ef1ecd3278ef3",
   "outputs": [],
   "execution_count": null
  },
  {
   "metadata": {},
   "cell_type": "code",
   "source": [
    "affine_transform = transforms.RandomAffine(degrees=0, translate=(0.1, 0.1))\n",
    "affined_image = affine_transform(image)\n",
    "\n",
    "plt.figure(figsize=(6, 6))\n",
    "plt.imshow(affined_image)\n",
    "plt.title(\"RandomAffine Image\")\n",
    "plt.axis('off')\n",
    "plt.show()\n"
   ],
   "id": "9c86895a5115867e",
   "outputs": [],
   "execution_count": null
  },
  {
   "metadata": {},
   "cell_type": "code",
   "source": [
    "perspective_transform = transforms.RandomPerspective(distortion_scale=0.2, p=1)\n",
    "perspective_image = perspective_transform(image)\n",
    "\n",
    "plt.figure(figsize=(6, 6))\n",
    "plt.imshow(perspective_image)\n",
    "plt.title(\"RandomPerspective Image\")\n",
    "plt.axis('off')\n",
    "plt.show()\n"
   ],
   "id": "54c66d6c4a117562",
   "outputs": [],
   "execution_count": null
  },
  {
   "metadata": {},
   "cell_type": "code",
   "source": "",
   "id": "7a4f04af01de1219",
   "outputs": [],
   "execution_count": null
  }
 ],
 "metadata": {
  "kernelspec": {
   "display_name": "Python 3",
   "language": "python",
   "name": "python3"
  },
  "language_info": {
   "codemirror_mode": {
    "name": "ipython",
    "version": 2
   },
   "file_extension": ".py",
   "mimetype": "text/x-python",
   "name": "python",
   "nbconvert_exporter": "python",
   "pygments_lexer": "ipython2",
   "version": "2.7.6"
  }
 },
 "nbformat": 4,
 "nbformat_minor": 5
}
