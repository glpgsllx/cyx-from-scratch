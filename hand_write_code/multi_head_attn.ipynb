{
 "cells": [
  {
   "cell_type": "code",
   "id": "initial_id",
   "metadata": {
    "collapsed": true,
    "ExecuteTime": {
     "end_time": "2024-07-04T04:05:36.826659Z",
     "start_time": "2024-07-04T04:05:30.263288Z"
    }
   },
   "source": [
    "import torch\n",
    "import torch.nn.functional as F\n",
    "import numpy as np\n",
    "import math\n",
    "from torch import nn"
   ],
   "outputs": [],
   "execution_count": 1
  },
  {
   "metadata": {
    "ExecuteTime": {
     "end_time": "2024-07-04T04:05:56.990984Z",
     "start_time": "2024-07-04T04:05:56.966857Z"
    }
   },
   "cell_type": "code",
   "source": [
    "X = torch.randn(1, 2, 4)  # bs, len, dim\n",
    "X.shape"
   ],
   "id": "9a54e07f737102df",
   "outputs": [
    {
     "data": {
      "text/plain": [
       "torch.Size([1, 2, 4])"
      ]
     },
     "execution_count": 2,
     "metadata": {},
     "output_type": "execute_result"
    }
   ],
   "execution_count": 2
  },
  {
   "metadata": {
    "ExecuteTime": {
     "end_time": "2024-07-04T04:05:58.544478Z",
     "start_time": "2024-07-04T04:05:58.525528Z"
    }
   },
   "cell_type": "code",
   "source": [
    "d_model = 4\n",
    "n_head = 2"
   ],
   "id": "7d24909bf6d6d48f",
   "outputs": [],
   "execution_count": 3
  },
  {
   "metadata": {
    "ExecuteTime": {
     "end_time": "2024-07-04T04:07:07.692987Z",
     "start_time": "2024-07-04T04:07:07.681769Z"
    }
   },
   "cell_type": "code",
   "source": [
    "class multi_head_attn(nn.Module):\n",
    "    \n",
    "    def __init__(self, d_model, n_head) -> None:\n",
    "        super(multi_head_attn, self).__init__()\n",
    "        self.d_model = d_model\n",
    "        self.n_head = n_head\n",
    "        self.w_q = nn.Linear(d_model, d_model)\n",
    "        self.w_k = nn.Linear(d_model, d_model)\n",
    "        self.w_v = nn.Linear(d_model, d_model)\n",
    "        self.w_out = nn.Linear(d_model, d_model)\n",
    "        self.softmax = nn.Softmax(dim=-1)\n",
    "        \n",
    "    def forward(self, q, k, v):\n",
    "        bs, lenth, dim = q.shape\n",
    "        n_d = self.d_model // self.n_head\n",
    "        q, k, v = self.w_q(q), self.w_k(k), self.w_v(v)\n",
    "        print(q.shape)\n",
    "        \n",
    "        q = q.view(bs, lenth, self.n_head, n_d).permute(0,2,1,3)\n",
    "        print(q.shape)\n",
    "        k = k.view(bs, lenth, self.n_head, n_d).permute(0,2,1,3)\n",
    "        v = v.view(bs, lenth, self.n_head, n_d).permute(0,2,1,3)\n",
    "        \n",
    "        score = q @ k.transpose(-2, -1) / math.sqrt(n_d)\n",
    "        print(score)\n",
    "        mask = torch.tril(torch.ones(lenth, lenth))\n",
    "        print(mask)\n",
    "        score = score.masked_fill(mask == 0, float(\"-inf\"))\n",
    "        print(score)\n",
    "        score = self.softmax(score) @ v\n",
    "        score = score.permute(0, 2, 1, 3).contiguous().view(bs, lenth, -1)\n",
    "        \n",
    "        output = self.w_out(score)\n",
    "        return output"
   ],
   "id": "fc3adff740a27db7",
   "outputs": [],
   "execution_count": 6
  },
  {
   "metadata": {
    "ExecuteTime": {
     "end_time": "2024-07-04T04:07:08.151944Z",
     "start_time": "2024-07-04T04:07:08.140543Z"
    }
   },
   "cell_type": "code",
   "source": [
    "attention = multi_head_attn(d_model, n_head)\n",
    "output = attention(X, X, X)\n",
    "print(output, output.shape)"
   ],
   "id": "14c2caf19ca3629f",
   "outputs": [
    {
     "name": "stdout",
     "output_type": "stream",
     "text": [
      "torch.Size([1, 2, 4])\n",
      "torch.Size([1, 2, 2, 2])\n",
      "tensor([[[[ 0.3126,  0.1033],\n",
      "          [ 0.4538,  0.0114]],\n",
      "\n",
      "         [[-0.3053, -0.0160],\n",
      "          [-0.1761,  0.0299]]]], grad_fn=<DivBackward0>)\n",
      "tensor([[1., 0.],\n",
      "        [1., 1.]])\n",
      "tensor([[[[ 0.3126,    -inf],\n",
      "          [ 0.4538,  0.0114]],\n",
      "\n",
      "         [[-0.3053,    -inf],\n",
      "          [-0.1761,  0.0299]]]], grad_fn=<MaskedFillBackward0>)\n",
      "tensor([[[-0.4721,  0.0959, -0.4633,  0.1413],\n",
      "         [-0.4681,  0.0861, -0.4088,  0.1041]]], grad_fn=<ViewBackward0>) torch.Size([1, 2, 4])\n"
     ]
    }
   ],
   "execution_count": 7
  },
  {
   "metadata": {},
   "cell_type": "code",
   "execution_count": null,
   "source": "",
   "id": "b439ee745a1124b4",
   "outputs": []
  }
 ],
 "metadata": {
  "kernelspec": {
   "display_name": "Python 3",
   "language": "python",
   "name": "python3"
  },
  "language_info": {
   "codemirror_mode": {
    "name": "ipython",
    "version": 2
   },
   "file_extension": ".py",
   "mimetype": "text/x-python",
   "name": "python",
   "nbconvert_exporter": "python",
   "pygments_lexer": "ipython2",
   "version": "2.7.6"
  }
 },
 "nbformat": 4,
 "nbformat_minor": 5
}
