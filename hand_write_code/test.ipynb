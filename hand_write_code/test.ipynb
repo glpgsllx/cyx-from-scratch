{
 "cells": [
  {
   "cell_type": "code",
   "id": "initial_id",
   "metadata": {
    "collapsed": true,
    "ExecuteTime": {
     "end_time": "2024-06-19T08:45:59.882423Z",
     "start_time": "2024-06-19T08:45:59.060772Z"
    }
   },
   "source": "import torch",
   "outputs": [],
   "execution_count": 1
  },
  {
   "metadata": {
    "ExecuteTime": {
     "end_time": "2024-06-19T08:46:00.484323Z",
     "start_time": "2024-06-19T08:46:00.468700Z"
    }
   },
   "cell_type": "code",
   "source": "theta_numerator = torch.arange(0, 32, 2).float()",
   "id": "d432b455c2ab72e8",
   "outputs": [],
   "execution_count": 2
  },
  {
   "metadata": {
    "ExecuteTime": {
     "end_time": "2024-06-19T08:46:01.255458Z",
     "start_time": "2024-06-19T08:46:01.239501Z"
    }
   },
   "cell_type": "code",
   "source": "theta_numerator",
   "id": "7bc8fb278340017a",
   "outputs": [
    {
     "data": {
      "text/plain": [
       "tensor([ 0.,  2.,  4.,  6.,  8., 10., 12., 14., 16., 18., 20., 22., 24., 26.,\n",
       "        28., 30.])"
      ]
     },
     "execution_count": 3,
     "metadata": {},
     "output_type": "execute_result"
    }
   ],
   "execution_count": 3
  },
  {
   "metadata": {
    "ExecuteTime": {
     "end_time": "2024-06-19T08:46:04.220774Z",
     "start_time": "2024-06-19T08:46:04.205117Z"
    }
   },
   "cell_type": "code",
   "source": "theta_numerator.shape",
   "id": "4157667ed7c2f6a4",
   "outputs": [
    {
     "data": {
      "text/plain": [
       "torch.Size([16])"
      ]
     },
     "execution_count": 4,
     "metadata": {},
     "output_type": "execute_result"
    }
   ],
   "execution_count": 4
  },
  {
   "metadata": {
    "ExecuteTime": {
     "end_time": "2024-06-19T09:17:59.941502Z",
     "start_time": "2024-06-19T09:17:59.925829Z"
    }
   },
   "cell_type": "code",
   "source": [
    "x = torch.arange(64).reshape(1, 2, 8, 4)\n",
    "x.shape"
   ],
   "id": "b89eeaed4728b9af",
   "outputs": [
    {
     "data": {
      "text/plain": [
       "torch.Size([1, 2, 8, 4])"
      ]
     },
     "execution_count": 6,
     "metadata": {},
     "output_type": "execute_result"
    }
   ],
   "execution_count": 6
  },
  {
   "metadata": {
    "ExecuteTime": {
     "end_time": "2024-06-19T09:18:08.017906Z",
     "start_time": "2024-06-19T09:18:08.002283Z"
    }
   },
   "cell_type": "code",
   "source": "x_complex = torch.view_as_complex(x.float().reshape(*x.shape[:-1], -1, 2))",
   "id": "1489938fac5692ef",
   "outputs": [],
   "execution_count": 7
  },
  {
   "metadata": {
    "ExecuteTime": {
     "end_time": "2024-06-19T09:18:11.299368Z",
     "start_time": "2024-06-19T09:18:11.291389Z"
    }
   },
   "cell_type": "code",
   "source": "x_complex.shape",
   "id": "60f1babd1dc421bf",
   "outputs": [
    {
     "data": {
      "text/plain": [
       "torch.Size([1, 2, 8, 2])"
      ]
     },
     "execution_count": 8,
     "metadata": {},
     "output_type": "execute_result"
    }
   ],
   "execution_count": 8
  },
  {
   "metadata": {
    "ExecuteTime": {
     "end_time": "2024-06-19T09:18:17.122835Z",
     "start_time": "2024-06-19T09:18:17.093664Z"
    }
   },
   "cell_type": "code",
   "source": "x",
   "id": "54c6c5d952e9d4a2",
   "outputs": [
    {
     "data": {
      "text/plain": [
       "tensor([[[[ 0,  1,  2,  3],\n",
       "          [ 4,  5,  6,  7],\n",
       "          [ 8,  9, 10, 11],\n",
       "          [12, 13, 14, 15],\n",
       "          [16, 17, 18, 19],\n",
       "          [20, 21, 22, 23],\n",
       "          [24, 25, 26, 27],\n",
       "          [28, 29, 30, 31]],\n",
       "\n",
       "         [[32, 33, 34, 35],\n",
       "          [36, 37, 38, 39],\n",
       "          [40, 41, 42, 43],\n",
       "          [44, 45, 46, 47],\n",
       "          [48, 49, 50, 51],\n",
       "          [52, 53, 54, 55],\n",
       "          [56, 57, 58, 59],\n",
       "          [60, 61, 62, 63]]]])"
      ]
     },
     "execution_count": 9,
     "metadata": {},
     "output_type": "execute_result"
    }
   ],
   "execution_count": 9
  },
  {
   "metadata": {
    "ExecuteTime": {
     "end_time": "2024-06-19T09:18:20.812315Z",
     "start_time": "2024-06-19T09:18:20.796688Z"
    }
   },
   "cell_type": "code",
   "source": "x_complex",
   "id": "83c9541c8425c6ae",
   "outputs": [
    {
     "data": {
      "text/plain": [
       "tensor([[[[ 0.+1.j,  2.+3.j],\n",
       "          [ 4.+5.j,  6.+7.j],\n",
       "          [ 8.+9.j, 10.+11.j],\n",
       "          [12.+13.j, 14.+15.j],\n",
       "          [16.+17.j, 18.+19.j],\n",
       "          [20.+21.j, 22.+23.j],\n",
       "          [24.+25.j, 26.+27.j],\n",
       "          [28.+29.j, 30.+31.j]],\n",
       "\n",
       "         [[32.+33.j, 34.+35.j],\n",
       "          [36.+37.j, 38.+39.j],\n",
       "          [40.+41.j, 42.+43.j],\n",
       "          [44.+45.j, 46.+47.j],\n",
       "          [48.+49.j, 50.+51.j],\n",
       "          [52.+53.j, 54.+55.j],\n",
       "          [56.+57.j, 58.+59.j],\n",
       "          [60.+61.j, 62.+63.j]]]])"
      ]
     },
     "execution_count": 10,
     "metadata": {},
     "output_type": "execute_result"
    }
   ],
   "execution_count": 10
  },
  {
   "metadata": {},
   "cell_type": "code",
   "outputs": [],
   "execution_count": null,
   "source": "",
   "id": "9f76614512a640d9"
  }
 ],
 "metadata": {
  "kernelspec": {
   "display_name": "Python 3",
   "language": "python",
   "name": "python3"
  },
  "language_info": {
   "codemirror_mode": {
    "name": "ipython",
    "version": 2
   },
   "file_extension": ".py",
   "mimetype": "text/x-python",
   "name": "python",
   "nbconvert_exporter": "python",
   "pygments_lexer": "ipython2",
   "version": "2.7.6"
  }
 },
 "nbformat": 4,
 "nbformat_minor": 5
}
