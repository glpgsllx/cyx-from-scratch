{
 "cells": [
  {
   "metadata": {
    "ExecuteTime": {
     "end_time": "2024-07-04T04:13:28.303173Z",
     "start_time": "2024-07-04T04:13:27.448972Z"
    }
   },
   "cell_type": "code",
   "source": [
    "import torch\n",
    "import torch.nn.functional as F\n",
    "import numpy as np\n",
    "import math\n",
    "from torch import nn"
   ],
   "id": "cc30c71c61fbe021",
   "execution_count": 1,
   "outputs": []
  },
  {
   "cell_type": "code",
   "id": "initial_id",
   "metadata": {
    "collapsed": true,
    "ExecuteTime": {
     "end_time": "2024-07-04T04:28:17.491717Z",
     "start_time": "2024-07-04T04:28:17.480258Z"
    }
   },
   "source": [
    "class GroupQueryAttn(nn.Module):\n",
    "    def __init__(self, d_model, n_heads, n_groups):\n",
    "        super(GroupQueryAttn, self).__init__()\n",
    "        self.d_model = d_model\n",
    "        self.n_heads = n_heads\n",
    "        self.n_groups = n_groups\n",
    "        \n",
    "        assert d_model % n_heads == 0\n",
    "        self.n_heads_groups = self.n_heads // self.n_groups\n",
    "        self.head_dim = d_model // n_heads\n",
    "        \n",
    "        self.w_q = nn.Linear(d_model, d_model)\n",
    "        self.w_k = nn.Linear(d_model, self.n_groups * self.head_dim)\n",
    "        self.w_v = nn.Linear(d_model, self.n_groups * self.head_dim)\n",
    "        self.w_combine = nn.Linear(d_model, d_model)\n",
    "        self.softmax = nn.Softmax(dim=-1)\n",
    "        \n",
    "    def expand(self, data):\n",
    "        batch, time = data.shape[0], data.shape[2]\n",
    "        data = data[:,:,None,:,:].expand(batch, self.n_groups, self.n_heads_groups, time, self.head_dim).contiguous()\n",
    "        data = data.view(batch, self.n_groups * self.n_heads_groups, time, self.head_dim)\n",
    "        return data\n",
    "        \n",
    "    def forward(self, q, k, v, mask=None):\n",
    "        q = self.w_q(q)\n",
    "        k = self.w_k(k)\n",
    "        v = self.w_v(v)\n",
    "        \n",
    "        batch = q.shape[0]\n",
    "        q = q.view(batch, -1, self.n_groups * self.n_heads_groups, self.head_dim).permute(0, 2, 1, 3)\n",
    "        print(q.shape)\n",
    "        k = k.view(batch, -1, self.n_groups, self.head_dim).permute(0, 2, 1, 3)\n",
    "        print(k.shape)\n",
    "        v = v.view(batch, -1, self.n_groups, self.head_dim).permute(0, 2, 1, 3)\n",
    "        print(v.shape)\n",
    "        \n",
    "        k = self.expand(k)\n",
    "        print(k.shape)\n",
    "        v = self.expand(v)\n",
    "        print(v.shape)\n",
    "        score = q @ k.transpose(2, 3) / math.sqrt(self.head_dim)\n",
    "        \n",
    "        if mask is not None:\n",
    "            score = score.masked_fill(mask == 0, -1e9)\n",
    "        score = self.softmax(score) @ v\n",
    "        score = score.permute(0, 2, 1, 3).contiguous().view(batch, -1, self.d_model)\n",
    "        print(score.shape)\n",
    "        output = self.w_combine(score)\n",
    "        print(output.shape)\n",
    "        return output\n",
    "        \n",
    "        \n",
    "        \n",
    "        "
   ],
   "execution_count": 12,
   "outputs": []
  },
  {
   "metadata": {
    "ExecuteTime": {
     "end_time": "2024-07-04T04:28:17.865158Z",
     "start_time": "2024-07-04T04:28:17.847575Z"
    }
   },
   "cell_type": "code",
   "source": [
    "X = torch.randn(1, 32, 16)  # bs, len, dim\n",
    "X.shape"
   ],
   "id": "5566d7796070eec9",
   "execution_count": 13,
   "outputs": []
  },
  {
   "metadata": {
    "ExecuteTime": {
     "end_time": "2024-07-04T04:28:18.129231Z",
     "start_time": "2024-07-04T04:28:18.124458Z"
    }
   },
   "cell_type": "code",
   "source": [
    "d_model = 16\n",
    "n_head = 8\n",
    "n_groups = 4"
   ],
   "id": "e147fe5aadfecab9",
   "execution_count": 14,
   "outputs": []
  },
  {
   "metadata": {
    "ExecuteTime": {
     "end_time": "2024-07-04T04:28:18.434538Z",
     "start_time": "2024-07-04T04:28:18.418270Z"
    }
   },
   "cell_type": "code",
   "source": [
    "attention = GroupQueryAttn(d_model, n_head, n_groups)\n",
    "output = attention(X, X, X)\n",
    "print(output, output.shape)"
   ],
   "id": "fb90f2c243d78be8",
   "execution_count": 15,
   "outputs": []
  },
  {
   "metadata": {},
   "cell_type": "code",
   "execution_count": null,
   "source": "",
   "id": "638b2a18163fa41f",
   "outputs": []
  }
 ],
 "metadata": {
  "kernelspec": {
   "display_name": "Python 3",
   "language": "python",
   "name": "python3"
  },
  "language_info": {
   "codemirror_mode": {
    "name": "ipython",
    "version": 2
   },
   "file_extension": ".py",
   "mimetype": "text/x-python",
   "name": "python",
   "nbconvert_exporter": "python",
   "pygments_lexer": "ipython2",
   "version": "2.7.6"
  }
 },
 "nbformat": 4,
 "nbformat_minor": 5
}
